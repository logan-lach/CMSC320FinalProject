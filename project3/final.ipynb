{
 "cells": [
  {
   "cell_type": "markdown",
   "id": "59482d4a-bf6f-481e-8daa-bdaa22b76d97",
   "metadata": {},
   "source": [
    "**HOW HAS STATCAST CHANGED BASEBALL**"
   ]
  },
  {
   "cell_type": "markdown",
   "id": "86e25007-7f7d-4648-b3d5-0806e010d68c",
   "metadata": {},
   "source": [
    "Major League Baseball introduced Statcast back in 2015. The most revolutionary and innovative technology ever unveiled in baseball added layers of complexity never before seen in the game. Through multiple cameras and radar, the league compiles metrics on things previously unheard of, such as pitch spin rate, route efficiency, and first step effectiveness.\n",
    "\n",
    "As a result, Statcast created an \"arms race\" of data throughout baseball. Teams have compiled their data analysts to comb through these metrics and make critical decisions on how to play to gain every competitive advantage. This document looks to explore that competitive advantage. How has baseball changed since the introduction of the Statcast era? What makes successful players in today's league, and what trends are emerging with players as their career progresses in this data-driven game?\n",
    "\n",
    "This topic is vast; therefore, this assignment will only look at pitchers. The goal of this is to explain to veterans of the game how their beloved pastime is evolving and maybe excite new people to check out one of the most popular sports on the planet."
   ]
  },
  {
   "cell_type": "markdown",
   "id": "06ca98cf-5443-4245-befd-f2798c57c200",
   "metadata": {},
   "source": [
    "**GETTING STARTED**"
   ]
  },
  {
   "cell_type": "markdown",
   "id": "b2cb944b-df1a-400e-89eb-87670460af6b",
   "metadata": {},
   "source": [
    "**Tools for the Job**"
   ]
  },
  {
   "cell_type": "markdown",
   "id": "d5b4612f-5be4-486b-97f4-459f98f6febd",
   "metadata": {},
   "source": [
    "We will be using Python 3 as well as some popular data science/visualization libraries such as: pandas, numpy, sklearn, matplotlib, statsmodels, and more."
   ]
  },
  {
   "cell_type": "code",
   "execution_count": 59,
   "id": "11ebc601-d811-4ede-a373-b4a007f309c7",
   "metadata": {},
   "outputs": [],
   "source": [
    "import pandas as pd\n",
    "import numpy as np\n",
    "import matplotlib.pyplot as plt\n",
    "import seaborn as sns\n",
    "import matplotlib.patches as mpatches"
   ]
  },
  {
   "cell_type": "markdown",
   "id": "f718f22a-6732-4646-b584-7e15b2d6f24f",
   "metadata": {},
   "source": [
    "**Where our data comes from**"
   ]
  },
  {
   "cell_type": "markdown",
   "id": "1935eca3-5bbe-40cd-9c1c-03ddbce813e0",
   "metadata": {},
   "source": [
    "Major League Baseball sponsors a page called BaseballSavant. Baseball Savant holds all Statcast data on every player in the league over the last 7 years. We were able to obtain the data by searching through the statistics, and creating a CSV (Comma Separated File) with all of our requested metrics for every pitcher."
   ]
  },
  {
   "cell_type": "markdown",
   "id": "e503e30e-11d3-4579-9119-8ff5019d4e7f",
   "metadata": {},
   "source": [
    "**PREPROCESSING DATA**"
   ]
  },
  {
   "cell_type": "markdown",
   "id": "8d5183da-ebe2-48c2-a17b-3a07383b6bce",
   "metadata": {},
   "source": [
    "Our data, having been managed by MLB and BaseballSavant, already came (mostly) cleaned and parsed. The CSV is already attatched, but you may go and create your own custom CSV with all relevant data here.\n",
    "\n",
    "Some pitfalls with using BaseballSavant is that they're compiling data for the 2022 season as it is ongoing. As a result, some stats will be incomplete, as some players have only pitched a few innings. We will take this into consideration in our dataset.\n",
    "\n",
    "Furthermore, the 2020 season was shortened to 60 games, only 37% of the original amount played. Therefore, we will have to adjust for this as well later on. "
   ]
  },
  {
   "cell_type": "markdown",
   "id": "b11ec17c-d3ec-43ad-ad01-700b0d544051",
   "metadata": {},
   "source": [
    "**READING DATA**"
   ]
  },
  {
   "cell_type": "code",
   "execution_count": 3,
   "id": "b17f6ec0-ef2b-44af-88e1-0282f0476ae5",
   "metadata": {},
   "outputs": [
    {
     "data": {
      "text/html": [
       "<div>\n",
       "<style scoped>\n",
       "    .dataframe tbody tr th:only-of-type {\n",
       "        vertical-align: middle;\n",
       "    }\n",
       "\n",
       "    .dataframe tbody tr th {\n",
       "        vertical-align: top;\n",
       "    }\n",
       "\n",
       "    .dataframe thead th {\n",
       "        text-align: right;\n",
       "    }\n",
       "</style>\n",
       "<table border=\"1\" class=\"dataframe\">\n",
       "  <thead>\n",
       "    <tr style=\"text-align: right;\">\n",
       "      <th></th>\n",
       "      <th>last_name</th>\n",
       "      <th>first_name</th>\n",
       "      <th>player_id</th>\n",
       "      <th>year</th>\n",
       "      <th>player_age</th>\n",
       "      <th>p_game</th>\n",
       "      <th>p_formatted_ip</th>\n",
       "      <th>p_total_hits</th>\n",
       "      <th>p_strikeout</th>\n",
       "      <th>p_walk</th>\n",
       "      <th>...</th>\n",
       "      <th>fastball_avg_break</th>\n",
       "      <th>n_breaking_formatted</th>\n",
       "      <th>breaking_avg_speed</th>\n",
       "      <th>breaking_avg_spin</th>\n",
       "      <th>breaking_avg_break</th>\n",
       "      <th>n_offspeed_formatted</th>\n",
       "      <th>offspeed_avg_speed</th>\n",
       "      <th>offspeed_avg_spin</th>\n",
       "      <th>offspeed_avg_break</th>\n",
       "      <th>Unnamed: 31</th>\n",
       "    </tr>\n",
       "  </thead>\n",
       "  <tbody>\n",
       "    <tr>\n",
       "      <th>0</th>\n",
       "      <td>Perez</td>\n",
       "      <td>Oliver</td>\n",
       "      <td>424144</td>\n",
       "      <td>2022</td>\n",
       "      <td>40</td>\n",
       "      <td>7</td>\n",
       "      <td>4.0</td>\n",
       "      <td>8</td>\n",
       "      <td>1</td>\n",
       "      <td>1</td>\n",
       "      <td>...</td>\n",
       "      <td>NaN</td>\n",
       "      <td>NaN</td>\n",
       "      <td>NaN</td>\n",
       "      <td>NaN</td>\n",
       "      <td>NaN</td>\n",
       "      <td>NaN</td>\n",
       "      <td>NaN</td>\n",
       "      <td>NaN</td>\n",
       "      <td>NaN</td>\n",
       "      <td>NaN</td>\n",
       "    </tr>\n",
       "    <tr>\n",
       "      <th>1</th>\n",
       "      <td>Wainwright</td>\n",
       "      <td>Adam</td>\n",
       "      <td>425794</td>\n",
       "      <td>2022</td>\n",
       "      <td>40</td>\n",
       "      <td>4</td>\n",
       "      <td>21.0</td>\n",
       "      <td>26</td>\n",
       "      <td>22</td>\n",
       "      <td>7</td>\n",
       "      <td>...</td>\n",
       "      <td>15.0</td>\n",
       "      <td>26.1</td>\n",
       "      <td>73.2</td>\n",
       "      <td>2741.0</td>\n",
       "      <td>22.8</td>\n",
       "      <td>12.6</td>\n",
       "      <td>82.8</td>\n",
       "      <td>1783.0</td>\n",
       "      <td>17.5</td>\n",
       "      <td>NaN</td>\n",
       "    </tr>\n",
       "    <tr>\n",
       "      <th>2</th>\n",
       "      <td>Greinke</td>\n",
       "      <td>Zack</td>\n",
       "      <td>425844</td>\n",
       "      <td>2022</td>\n",
       "      <td>38</td>\n",
       "      <td>3</td>\n",
       "      <td>16.0</td>\n",
       "      <td>16</td>\n",
       "      <td>2</td>\n",
       "      <td>3</td>\n",
       "      <td>...</td>\n",
       "      <td>15.7</td>\n",
       "      <td>40.2</td>\n",
       "      <td>76.8</td>\n",
       "      <td>2424.0</td>\n",
       "      <td>13.9</td>\n",
       "      <td>20.9</td>\n",
       "      <td>86.4</td>\n",
       "      <td>1604.0</td>\n",
       "      <td>12.8</td>\n",
       "      <td>NaN</td>\n",
       "    </tr>\n",
       "    <tr>\n",
       "      <th>3</th>\n",
       "      <td>Verlander</td>\n",
       "      <td>Justin</td>\n",
       "      <td>434378</td>\n",
       "      <td>2022</td>\n",
       "      <td>39</td>\n",
       "      <td>3</td>\n",
       "      <td>19.0</td>\n",
       "      <td>10</td>\n",
       "      <td>20</td>\n",
       "      <td>4</td>\n",
       "      <td>...</td>\n",
       "      <td>22.1</td>\n",
       "      <td>47.6</td>\n",
       "      <td>83.3</td>\n",
       "      <td>2463.0</td>\n",
       "      <td>9.4</td>\n",
       "      <td>0.4</td>\n",
       "      <td>82.8</td>\n",
       "      <td>1959.0</td>\n",
       "      <td>22.2</td>\n",
       "      <td>NaN</td>\n",
       "    </tr>\n",
       "    <tr>\n",
       "      <th>4</th>\n",
       "      <td>Jansen</td>\n",
       "      <td>Kenley</td>\n",
       "      <td>445276</td>\n",
       "      <td>2022</td>\n",
       "      <td>34</td>\n",
       "      <td>6</td>\n",
       "      <td>6.0</td>\n",
       "      <td>3</td>\n",
       "      <td>8</td>\n",
       "      <td>2</td>\n",
       "      <td>...</td>\n",
       "      <td>NaN</td>\n",
       "      <td>NaN</td>\n",
       "      <td>NaN</td>\n",
       "      <td>NaN</td>\n",
       "      <td>NaN</td>\n",
       "      <td>NaN</td>\n",
       "      <td>NaN</td>\n",
       "      <td>NaN</td>\n",
       "      <td>NaN</td>\n",
       "      <td>NaN</td>\n",
       "    </tr>\n",
       "  </tbody>\n",
       "</table>\n",
       "<p>5 rows × 32 columns</p>\n",
       "</div>"
      ],
      "text/plain": [
       "    last_name  first_name  player_id  year  player_age  p_game  \\\n",
       "0       Perez      Oliver     424144  2022          40       7   \n",
       "1  Wainwright        Adam     425794  2022          40       4   \n",
       "2     Greinke        Zack     425844  2022          38       3   \n",
       "3   Verlander      Justin     434378  2022          39       3   \n",
       "4      Jansen      Kenley     445276  2022          34       6   \n",
       "\n",
       "   p_formatted_ip  p_total_hits  p_strikeout  p_walk  ...  fastball_avg_break  \\\n",
       "0             4.0             8            1       1  ...                 NaN   \n",
       "1            21.0            26           22       7  ...                15.0   \n",
       "2            16.0            16            2       3  ...                15.7   \n",
       "3            19.0            10           20       4  ...                22.1   \n",
       "4             6.0             3            8       2  ...                 NaN   \n",
       "\n",
       "   n_breaking_formatted  breaking_avg_speed  breaking_avg_spin  \\\n",
       "0                   NaN                 NaN                NaN   \n",
       "1                  26.1                73.2             2741.0   \n",
       "2                  40.2                76.8             2424.0   \n",
       "3                  47.6                83.3             2463.0   \n",
       "4                   NaN                 NaN                NaN   \n",
       "\n",
       "   breaking_avg_break  n_offspeed_formatted  offspeed_avg_speed  \\\n",
       "0                 NaN                   NaN                 NaN   \n",
       "1                22.8                  12.6                82.8   \n",
       "2                13.9                  20.9                86.4   \n",
       "3                 9.4                   0.4                82.8   \n",
       "4                 NaN                   NaN                 NaN   \n",
       "\n",
       "   offspeed_avg_spin  offspeed_avg_break  Unnamed: 31  \n",
       "0                NaN                 NaN          NaN  \n",
       "1             1783.0                17.5          NaN  \n",
       "2             1604.0                12.8          NaN  \n",
       "3             1959.0                22.2          NaN  \n",
       "4                NaN                 NaN          NaN  \n",
       "\n",
       "[5 rows x 32 columns]"
      ]
     },
     "execution_count": 3,
     "metadata": {},
     "output_type": "execute_result"
    }
   ],
   "source": [
    "pitch_data = pd.read_csv('stats.csv')\n",
    "pitch_data.head()"
   ]
  },
  {
   "cell_type": "markdown",
   "id": "69928dff-92dc-4db8-b783-d4fd4a45168e",
   "metadata": {},
   "source": [
    "Our dataset is absolutley massive. Let's display some of the column names below and exactly what they mean."
   ]
  },
  {
   "cell_type": "code",
   "execution_count": 4,
   "id": "5a961ab0-00d0-41c8-81bb-6825ec9cb480",
   "metadata": {},
   "outputs": [
    {
     "data": {
      "text/plain": [
       "Index(['last_name', ' first_name', 'player_id', 'year', 'player_age', 'p_game',\n",
       "       'p_formatted_ip', 'p_total_hits', 'p_strikeout', 'p_walk',\n",
       "       'p_k_percent', 'p_bb_percent', 'batting_avg', 'p_win', 'p_era',\n",
       "       'exit_velocity_avg', 'launch_angle_avg', 'hard_hit_percent',\n",
       "       'out_zone_percent', 'n_fastball_formatted', 'fastball_avg_speed',\n",
       "       'fastball_avg_spin', 'fastball_avg_break', 'n_breaking_formatted',\n",
       "       'breaking_avg_speed', 'breaking_avg_spin', 'breaking_avg_break',\n",
       "       'n_offspeed_formatted', 'offspeed_avg_speed', 'offspeed_avg_spin',\n",
       "       'offspeed_avg_break', 'Unnamed: 31'],\n",
       "      dtype='object')"
      ]
     },
     "execution_count": 4,
     "metadata": {},
     "output_type": "execute_result"
    }
   ],
   "source": [
    "pitch_data.columns"
   ]
  },
  {
   "cell_type": "markdown",
   "id": "db6bad2e-b1b4-4b76-8d43-5f791df7ff80",
   "metadata": {},
   "source": [
    "<br>\n",
    "\n",
    "Our Data Can be Segmented into 3 Parts:\n",
    "\n",
    "<br>\n",
    "\n",
    "**Part 1: Basic Statistics**\n",
    "\n",
    "- last_name, first_name, player_id: Last name, first name, and player id for the pitcher\n",
    "\n",
    "- p_game: Number of games pitched in\n",
    "\n",
    "- p_formatted_ip: Number of total innings pitched\n",
    "\n",
    "- p_total_hits: Hits given up in a season\n",
    "\n",
    "- p_strikeout: Total number of strikeouts in a season\n",
    "\n",
    "- p_walk: Total number of walks allowed in a season\n",
    "\n",
    "- p_k_percent: Strikeout percentage\n",
    "\n",
    "- p_walk_percent: Walk percentage\n",
    "\n",
    "- p_win: Number of wins earned in the season\n",
    "\n",
    "- p_era: Earned Run Average (Estimated runs given up every 9 innings pitched)\n",
    "\n",
    "**Part 2: Sabermetrics**\n",
    "\n",
    "- exit_velocity_avg: On average, when a player hits a ball against this pitcher, how fast is it hit\n",
    "\n",
    "- launch_angle_avg: On average, when a player hits a ball against this pitcher, what angle is the ball travelling at?\n",
    "\n",
    "- hard_hit_pct: On average, of all at bats this pitcher pitched against, how many resulted in a hart hit ball ( exit velo >= 95 mph )\n",
    "\n",
    "- out_zone_percent: What percentage of pitches end up outside the strike zone?\n",
    "\n",
    "**Part 3: Pitch Sabermetrics**\n",
    "\n",
    "We break down the types of pitches a pitcher can throw into 3 categories, fastball, breaking, and offspeed. For each of these types of pitches,\n",
    "\n",
    "- n_*_formatted: What percentage of pitches throw by this pitcher were this type?\n",
    "\n",
    "- *_avg_speed: On average, how fast was this type of pitch?\n",
    "\n",
    "- *_avg_break: On average, how many inches did this pitch move from release?\n",
    "\n",
    "- *_avg_spin: On average, how many RPM (revolutions per minute) did this pitch have?"
   ]
  },
  {
   "cell_type": "markdown",
   "id": "05221c5e-947c-40d8-a5ff-895472cbd513",
   "metadata": {},
   "source": [
    "**TIDYING DATA**"
   ]
  },
  {
   "cell_type": "markdown",
   "id": "b111c5f3-fb61-4d95-ac26-703de2439198",
   "metadata": {},
   "source": [
    "As mentioned earlier, BaseballSavant gave us a pretty great dataset. However, there are some shortcomings with the data. Firstly, it seems we have an unnecessary column named 'Unnamed: 31'. Let us verify that there is no valid data in that column and delete it"
   ]
  },
  {
   "cell_type": "code",
   "execution_count": 5,
   "id": "dd306518-a76c-4f58-a4b2-1db8f3397ef9",
   "metadata": {},
   "outputs": [
    {
     "data": {
      "text/plain": [
       "0"
      ]
     },
     "execution_count": 5,
     "metadata": {},
     "output_type": "execute_result"
    }
   ],
   "source": [
    "# Getting all unique values inside pitch_data['Unnamed: 31']\n",
    "\n",
    "hold = []\n",
    "for x in pitch_data['Unnamed: 31']:\n",
    "    if not np.isnan(x):\n",
    "        hold.append(x)\n",
    "len(hold)"
   ]
  },
  {
   "cell_type": "code",
   "execution_count": 6,
   "id": "173a5d7c-0450-4b8a-b76d-9eb603b00f08",
   "metadata": {},
   "outputs": [
    {
     "data": {
      "text/html": [
       "<div>\n",
       "<style scoped>\n",
       "    .dataframe tbody tr th:only-of-type {\n",
       "        vertical-align: middle;\n",
       "    }\n",
       "\n",
       "    .dataframe tbody tr th {\n",
       "        vertical-align: top;\n",
       "    }\n",
       "\n",
       "    .dataframe thead th {\n",
       "        text-align: right;\n",
       "    }\n",
       "</style>\n",
       "<table border=\"1\" class=\"dataframe\">\n",
       "  <thead>\n",
       "    <tr style=\"text-align: right;\">\n",
       "      <th></th>\n",
       "      <th>last_name</th>\n",
       "      <th>first_name</th>\n",
       "      <th>player_id</th>\n",
       "      <th>year</th>\n",
       "      <th>player_age</th>\n",
       "      <th>p_game</th>\n",
       "      <th>p_formatted_ip</th>\n",
       "      <th>p_total_hits</th>\n",
       "      <th>p_strikeout</th>\n",
       "      <th>p_walk</th>\n",
       "      <th>...</th>\n",
       "      <th>fastball_avg_spin</th>\n",
       "      <th>fastball_avg_break</th>\n",
       "      <th>n_breaking_formatted</th>\n",
       "      <th>breaking_avg_speed</th>\n",
       "      <th>breaking_avg_spin</th>\n",
       "      <th>breaking_avg_break</th>\n",
       "      <th>n_offspeed_formatted</th>\n",
       "      <th>offspeed_avg_speed</th>\n",
       "      <th>offspeed_avg_spin</th>\n",
       "      <th>offspeed_avg_break</th>\n",
       "    </tr>\n",
       "  </thead>\n",
       "  <tbody>\n",
       "    <tr>\n",
       "      <th>0</th>\n",
       "      <td>Perez</td>\n",
       "      <td>Oliver</td>\n",
       "      <td>424144</td>\n",
       "      <td>2022</td>\n",
       "      <td>40</td>\n",
       "      <td>7</td>\n",
       "      <td>4.0</td>\n",
       "      <td>8</td>\n",
       "      <td>1</td>\n",
       "      <td>1</td>\n",
       "      <td>...</td>\n",
       "      <td>NaN</td>\n",
       "      <td>NaN</td>\n",
       "      <td>NaN</td>\n",
       "      <td>NaN</td>\n",
       "      <td>NaN</td>\n",
       "      <td>NaN</td>\n",
       "      <td>NaN</td>\n",
       "      <td>NaN</td>\n",
       "      <td>NaN</td>\n",
       "      <td>NaN</td>\n",
       "    </tr>\n",
       "    <tr>\n",
       "      <th>1</th>\n",
       "      <td>Wainwright</td>\n",
       "      <td>Adam</td>\n",
       "      <td>425794</td>\n",
       "      <td>2022</td>\n",
       "      <td>40</td>\n",
       "      <td>4</td>\n",
       "      <td>21.0</td>\n",
       "      <td>26</td>\n",
       "      <td>22</td>\n",
       "      <td>7</td>\n",
       "      <td>...</td>\n",
       "      <td>2248.0</td>\n",
       "      <td>15.0</td>\n",
       "      <td>26.1</td>\n",
       "      <td>73.2</td>\n",
       "      <td>2741.0</td>\n",
       "      <td>22.8</td>\n",
       "      <td>12.6</td>\n",
       "      <td>82.8</td>\n",
       "      <td>1783.0</td>\n",
       "      <td>17.5</td>\n",
       "    </tr>\n",
       "    <tr>\n",
       "      <th>2</th>\n",
       "      <td>Greinke</td>\n",
       "      <td>Zack</td>\n",
       "      <td>425844</td>\n",
       "      <td>2022</td>\n",
       "      <td>38</td>\n",
       "      <td>3</td>\n",
       "      <td>16.0</td>\n",
       "      <td>16</td>\n",
       "      <td>2</td>\n",
       "      <td>3</td>\n",
       "      <td>...</td>\n",
       "      <td>2274.0</td>\n",
       "      <td>15.7</td>\n",
       "      <td>40.2</td>\n",
       "      <td>76.8</td>\n",
       "      <td>2424.0</td>\n",
       "      <td>13.9</td>\n",
       "      <td>20.9</td>\n",
       "      <td>86.4</td>\n",
       "      <td>1604.0</td>\n",
       "      <td>12.8</td>\n",
       "    </tr>\n",
       "    <tr>\n",
       "      <th>3</th>\n",
       "      <td>Verlander</td>\n",
       "      <td>Justin</td>\n",
       "      <td>434378</td>\n",
       "      <td>2022</td>\n",
       "      <td>39</td>\n",
       "      <td>3</td>\n",
       "      <td>19.0</td>\n",
       "      <td>10</td>\n",
       "      <td>20</td>\n",
       "      <td>4</td>\n",
       "      <td>...</td>\n",
       "      <td>2403.0</td>\n",
       "      <td>22.1</td>\n",
       "      <td>47.6</td>\n",
       "      <td>83.3</td>\n",
       "      <td>2463.0</td>\n",
       "      <td>9.4</td>\n",
       "      <td>0.4</td>\n",
       "      <td>82.8</td>\n",
       "      <td>1959.0</td>\n",
       "      <td>22.2</td>\n",
       "    </tr>\n",
       "    <tr>\n",
       "      <th>4</th>\n",
       "      <td>Jansen</td>\n",
       "      <td>Kenley</td>\n",
       "      <td>445276</td>\n",
       "      <td>2022</td>\n",
       "      <td>34</td>\n",
       "      <td>6</td>\n",
       "      <td>6.0</td>\n",
       "      <td>3</td>\n",
       "      <td>8</td>\n",
       "      <td>2</td>\n",
       "      <td>...</td>\n",
       "      <td>NaN</td>\n",
       "      <td>NaN</td>\n",
       "      <td>NaN</td>\n",
       "      <td>NaN</td>\n",
       "      <td>NaN</td>\n",
       "      <td>NaN</td>\n",
       "      <td>NaN</td>\n",
       "      <td>NaN</td>\n",
       "      <td>NaN</td>\n",
       "      <td>NaN</td>\n",
       "    </tr>\n",
       "  </tbody>\n",
       "</table>\n",
       "<p>5 rows × 31 columns</p>\n",
       "</div>"
      ],
      "text/plain": [
       "    last_name  first_name  player_id  year  player_age  p_game  \\\n",
       "0       Perez      Oliver     424144  2022          40       7   \n",
       "1  Wainwright        Adam     425794  2022          40       4   \n",
       "2     Greinke        Zack     425844  2022          38       3   \n",
       "3   Verlander      Justin     434378  2022          39       3   \n",
       "4      Jansen      Kenley     445276  2022          34       6   \n",
       "\n",
       "   p_formatted_ip  p_total_hits  p_strikeout  p_walk  ...  fastball_avg_spin  \\\n",
       "0             4.0             8            1       1  ...                NaN   \n",
       "1            21.0            26           22       7  ...             2248.0   \n",
       "2            16.0            16            2       3  ...             2274.0   \n",
       "3            19.0            10           20       4  ...             2403.0   \n",
       "4             6.0             3            8       2  ...                NaN   \n",
       "\n",
       "   fastball_avg_break  n_breaking_formatted  breaking_avg_speed  \\\n",
       "0                 NaN                   NaN                 NaN   \n",
       "1                15.0                  26.1                73.2   \n",
       "2                15.7                  40.2                76.8   \n",
       "3                22.1                  47.6                83.3   \n",
       "4                 NaN                   NaN                 NaN   \n",
       "\n",
       "   breaking_avg_spin  breaking_avg_break  n_offspeed_formatted  \\\n",
       "0                NaN                 NaN                   NaN   \n",
       "1             2741.0                22.8                  12.6   \n",
       "2             2424.0                13.9                  20.9   \n",
       "3             2463.0                 9.4                   0.4   \n",
       "4                NaN                 NaN                   NaN   \n",
       "\n",
       "   offspeed_avg_speed  offspeed_avg_spin  offspeed_avg_break  \n",
       "0                 NaN                NaN                 NaN  \n",
       "1                82.8             1783.0                17.5  \n",
       "2                86.4             1604.0                12.8  \n",
       "3                82.8             1959.0                22.2  \n",
       "4                 NaN                NaN                 NaN  \n",
       "\n",
       "[5 rows x 31 columns]"
      ]
     },
     "execution_count": 6,
     "metadata": {},
     "output_type": "execute_result"
    }
   ],
   "source": [
    "# It is unnecessary, therefore we should delete it\n",
    "pitch_data.drop(['Unnamed: 31'], axis=1, inplace=True)\n",
    "pitch_data.head()"
   ]
  },
  {
   "cell_type": "markdown",
   "id": "c3a1af1c-4c7e-4ce0-9848-e04c5e425c22",
   "metadata": {},
   "source": [
    "Another issue we mentioned is the fact that the 2022 season is currently ongoing. With the league only having played around ~20 games at this point in the season, very little pertinent info such as average pitch speed should be considered. Therefore, as of the time of creating this tutorial, we should remove any incomplete data and only work with accurate information "
   ]
  },
  {
   "cell_type": "code",
   "execution_count": 7,
   "id": "08c38148-4e52-4524-8a4c-a29944c9e0d4",
   "metadata": {},
   "outputs": [
    {
     "data": {
      "text/html": [
       "<div>\n",
       "<style scoped>\n",
       "    .dataframe tbody tr th:only-of-type {\n",
       "        vertical-align: middle;\n",
       "    }\n",
       "\n",
       "    .dataframe tbody tr th {\n",
       "        vertical-align: top;\n",
       "    }\n",
       "\n",
       "    .dataframe thead th {\n",
       "        text-align: right;\n",
       "    }\n",
       "</style>\n",
       "<table border=\"1\" class=\"dataframe\">\n",
       "  <thead>\n",
       "    <tr style=\"text-align: right;\">\n",
       "      <th></th>\n",
       "      <th>last_name</th>\n",
       "      <th>first_name</th>\n",
       "      <th>player_id</th>\n",
       "      <th>year</th>\n",
       "      <th>player_age</th>\n",
       "      <th>p_game</th>\n",
       "      <th>p_formatted_ip</th>\n",
       "      <th>p_total_hits</th>\n",
       "      <th>p_strikeout</th>\n",
       "      <th>p_walk</th>\n",
       "      <th>...</th>\n",
       "      <th>fastball_avg_spin</th>\n",
       "      <th>fastball_avg_break</th>\n",
       "      <th>n_breaking_formatted</th>\n",
       "      <th>breaking_avg_speed</th>\n",
       "      <th>breaking_avg_spin</th>\n",
       "      <th>breaking_avg_break</th>\n",
       "      <th>n_offspeed_formatted</th>\n",
       "      <th>offspeed_avg_speed</th>\n",
       "      <th>offspeed_avg_spin</th>\n",
       "      <th>offspeed_avg_break</th>\n",
       "    </tr>\n",
       "  </thead>\n",
       "  <tbody>\n",
       "    <tr>\n",
       "      <th>483</th>\n",
       "      <td>Colon</td>\n",
       "      <td>Bartolo</td>\n",
       "      <td>112526</td>\n",
       "      <td>2018</td>\n",
       "      <td>45</td>\n",
       "      <td>28</td>\n",
       "      <td>146.1</td>\n",
       "      <td>172</td>\n",
       "      <td>81</td>\n",
       "      <td>25</td>\n",
       "      <td>...</td>\n",
       "      <td>2171.0</td>\n",
       "      <td>18.6</td>\n",
       "      <td>7.4</td>\n",
       "      <td>80.5</td>\n",
       "      <td>2388.0</td>\n",
       "      <td>5.7</td>\n",
       "      <td>11.1</td>\n",
       "      <td>80.8</td>\n",
       "      <td>1657.0</td>\n",
       "      <td>16.1</td>\n",
       "    </tr>\n",
       "    <tr>\n",
       "      <th>484</th>\n",
       "      <td>Belisle</td>\n",
       "      <td>Matt</td>\n",
       "      <td>279571</td>\n",
       "      <td>2018</td>\n",
       "      <td>38</td>\n",
       "      <td>33</td>\n",
       "      <td>34.1</td>\n",
       "      <td>49</td>\n",
       "      <td>25</td>\n",
       "      <td>11</td>\n",
       "      <td>...</td>\n",
       "      <td>2037.0</td>\n",
       "      <td>16.5</td>\n",
       "      <td>44.9</td>\n",
       "      <td>83.4</td>\n",
       "      <td>2164.0</td>\n",
       "      <td>8.8</td>\n",
       "      <td>0.2</td>\n",
       "      <td>85.2</td>\n",
       "      <td>1364.0</td>\n",
       "      <td>13.4</td>\n",
       "    </tr>\n",
       "    <tr>\n",
       "      <th>485</th>\n",
       "      <td>Sabathia</td>\n",
       "      <td>CC</td>\n",
       "      <td>282332</td>\n",
       "      <td>2018</td>\n",
       "      <td>37</td>\n",
       "      <td>29</td>\n",
       "      <td>153.0</td>\n",
       "      <td>150</td>\n",
       "      <td>140</td>\n",
       "      <td>51</td>\n",
       "      <td>...</td>\n",
       "      <td>2172.0</td>\n",
       "      <td>12.0</td>\n",
       "      <td>30.9</td>\n",
       "      <td>80.0</td>\n",
       "      <td>2250.0</td>\n",
       "      <td>12.1</td>\n",
       "      <td>10.1</td>\n",
       "      <td>83.4</td>\n",
       "      <td>1878.0</td>\n",
       "      <td>12.0</td>\n",
       "    </tr>\n",
       "    <tr>\n",
       "      <th>486</th>\n",
       "      <td>De La Rosa</td>\n",
       "      <td>Jorge</td>\n",
       "      <td>407822</td>\n",
       "      <td>2018</td>\n",
       "      <td>37</td>\n",
       "      <td>59</td>\n",
       "      <td>56.0</td>\n",
       "      <td>51</td>\n",
       "      <td>47</td>\n",
       "      <td>27</td>\n",
       "      <td>...</td>\n",
       "      <td>2082.0</td>\n",
       "      <td>16.2</td>\n",
       "      <td>4.4</td>\n",
       "      <td>75.2</td>\n",
       "      <td>2647.0</td>\n",
       "      <td>16.4</td>\n",
       "      <td>40.1</td>\n",
       "      <td>83.6</td>\n",
       "      <td>1424.0</td>\n",
       "      <td>12.8</td>\n",
       "    </tr>\n",
       "    <tr>\n",
       "      <th>487</th>\n",
       "      <td>Rodney</td>\n",
       "      <td>Fernando</td>\n",
       "      <td>407845</td>\n",
       "      <td>2018</td>\n",
       "      <td>41</td>\n",
       "      <td>68</td>\n",
       "      <td>64.1</td>\n",
       "      <td>62</td>\n",
       "      <td>70</td>\n",
       "      <td>32</td>\n",
       "      <td>...</td>\n",
       "      <td>2067.0</td>\n",
       "      <td>18.8</td>\n",
       "      <td>0.3</td>\n",
       "      <td>86.5</td>\n",
       "      <td>2182.0</td>\n",
       "      <td>7.8</td>\n",
       "      <td>29.2</td>\n",
       "      <td>82.8</td>\n",
       "      <td>1735.0</td>\n",
       "      <td>17.3</td>\n",
       "    </tr>\n",
       "  </tbody>\n",
       "</table>\n",
       "<p>5 rows × 31 columns</p>\n",
       "</div>"
      ],
      "text/plain": [
       "      last_name  first_name  player_id  year  player_age  p_game  \\\n",
       "483       Colon     Bartolo     112526  2018          45      28   \n",
       "484     Belisle        Matt     279571  2018          38      33   \n",
       "485    Sabathia          CC     282332  2018          37      29   \n",
       "486  De La Rosa       Jorge     407822  2018          37      59   \n",
       "487      Rodney    Fernando     407845  2018          41      68   \n",
       "\n",
       "     p_formatted_ip  p_total_hits  p_strikeout  p_walk  ...  \\\n",
       "483           146.1           172           81      25  ...   \n",
       "484            34.1            49           25      11  ...   \n",
       "485           153.0           150          140      51  ...   \n",
       "486            56.0            51           47      27  ...   \n",
       "487            64.1            62           70      32  ...   \n",
       "\n",
       "     fastball_avg_spin  fastball_avg_break  n_breaking_formatted  \\\n",
       "483             2171.0                18.6                   7.4   \n",
       "484             2037.0                16.5                  44.9   \n",
       "485             2172.0                12.0                  30.9   \n",
       "486             2082.0                16.2                   4.4   \n",
       "487             2067.0                18.8                   0.3   \n",
       "\n",
       "     breaking_avg_speed  breaking_avg_spin  breaking_avg_break  \\\n",
       "483                80.5             2388.0                 5.7   \n",
       "484                83.4             2164.0                 8.8   \n",
       "485                80.0             2250.0                12.1   \n",
       "486                75.2             2647.0                16.4   \n",
       "487                86.5             2182.0                 7.8   \n",
       "\n",
       "     n_offspeed_formatted  offspeed_avg_speed  offspeed_avg_spin  \\\n",
       "483                  11.1                80.8             1657.0   \n",
       "484                   0.2                85.2             1364.0   \n",
       "485                  10.1                83.4             1878.0   \n",
       "486                  40.1                83.6             1424.0   \n",
       "487                  29.2                82.8             1735.0   \n",
       "\n",
       "     offspeed_avg_break  \n",
       "483                16.1  \n",
       "484                13.4  \n",
       "485                12.0  \n",
       "486                12.8  \n",
       "487                17.3  \n",
       "\n",
       "[5 rows x 31 columns]"
      ]
     },
     "execution_count": 7,
     "metadata": {},
     "output_type": "execute_result"
    }
   ],
   "source": [
    "# Effectively remove all data being collected in 2022\n",
    "pitch_data = pitch_data[pitch_data['year'] != 2022]\n",
    "pitch_data.head()"
   ]
  },
  {
   "cell_type": "markdown",
   "id": "07f29431-0c4e-4e05-bb10-1b9c88a953a6",
   "metadata": {},
   "source": [
    "Finally, a issue we have to contend with is the shortening of the 2020 season. That season reduced the total number of games to 60 as opposed to a traditional 162 games a year. Later, most of our analysis will deal with things in terms of ratio's so we won't have to worry about it. However, for some display purposes we will want to scale it to a traditional 162 game season. Therefore, let's create a seperate dataframe that is scaled appropriatley. "
   ]
  },
  {
   "cell_type": "code",
   "execution_count": 8,
   "id": "45ce91a3-de42-4e17-8ebf-e110ad6126ef",
   "metadata": {},
   "outputs": [],
   "source": [
    "adjusted_rate = 162/60\n",
    "adjusted_pitch_data = pitch_data.copy() \n",
    "\n",
    "for index, row in adjusted_pitch_data.iterrows():\n",
    "    if row['year'] == 2020:\n",
    "        for item in ['p_formatted_ip', 'p_total_hits', 'p_game', 'p_strikeout', 'p_walk', 'p_win']:\n",
    "            adjusted_pitch_data.at[index,item] = int(row[item] * adjusted_rate)\n",
    "        "
   ]
  },
  {
   "cell_type": "code",
   "execution_count": 9,
   "id": "cf59eb69-4a42-469f-a827-95088e0ad7c0",
   "metadata": {},
   "outputs": [
    {
     "data": {
      "text/html": [
       "<div>\n",
       "<style scoped>\n",
       "    .dataframe tbody tr th:only-of-type {\n",
       "        vertical-align: middle;\n",
       "    }\n",
       "\n",
       "    .dataframe tbody tr th {\n",
       "        vertical-align: top;\n",
       "    }\n",
       "\n",
       "    .dataframe thead th {\n",
       "        text-align: right;\n",
       "    }\n",
       "</style>\n",
       "<table border=\"1\" class=\"dataframe\">\n",
       "  <thead>\n",
       "    <tr style=\"text-align: right;\">\n",
       "      <th></th>\n",
       "      <th>last_name</th>\n",
       "      <th>first_name</th>\n",
       "      <th>player_id</th>\n",
       "      <th>year</th>\n",
       "      <th>player_age</th>\n",
       "      <th>p_game</th>\n",
       "      <th>p_formatted_ip</th>\n",
       "      <th>p_total_hits</th>\n",
       "      <th>p_strikeout</th>\n",
       "      <th>p_walk</th>\n",
       "      <th>...</th>\n",
       "      <th>fastball_avg_spin</th>\n",
       "      <th>fastball_avg_break</th>\n",
       "      <th>n_breaking_formatted</th>\n",
       "      <th>breaking_avg_speed</th>\n",
       "      <th>breaking_avg_spin</th>\n",
       "      <th>breaking_avg_break</th>\n",
       "      <th>n_offspeed_formatted</th>\n",
       "      <th>offspeed_avg_speed</th>\n",
       "      <th>offspeed_avg_spin</th>\n",
       "      <th>offspeed_avg_break</th>\n",
       "    </tr>\n",
       "  </thead>\n",
       "  <tbody>\n",
       "    <tr>\n",
       "      <th>1235</th>\n",
       "      <td>Perez</td>\n",
       "      <td>Oliver</td>\n",
       "      <td>424144</td>\n",
       "      <td>2020</td>\n",
       "      <td>38</td>\n",
       "      <td>56</td>\n",
       "      <td>48.0</td>\n",
       "      <td>35</td>\n",
       "      <td>37</td>\n",
       "      <td>16</td>\n",
       "      <td>...</td>\n",
       "      <td>2114.0</td>\n",
       "      <td>19.4</td>\n",
       "      <td>43.1</td>\n",
       "      <td>76.1</td>\n",
       "      <td>2195.0</td>\n",
       "      <td>10.3</td>\n",
       "      <td>NaN</td>\n",
       "      <td>NaN</td>\n",
       "      <td>NaN</td>\n",
       "      <td>NaN</td>\n",
       "    </tr>\n",
       "    <tr>\n",
       "      <th>1236</th>\n",
       "      <td>Wainwright</td>\n",
       "      <td>Adam</td>\n",
       "      <td>425794</td>\n",
       "      <td>2020</td>\n",
       "      <td>38</td>\n",
       "      <td>27</td>\n",
       "      <td>176.0</td>\n",
       "      <td>145</td>\n",
       "      <td>145</td>\n",
       "      <td>40</td>\n",
       "      <td>...</td>\n",
       "      <td>2253.0</td>\n",
       "      <td>13.5</td>\n",
       "      <td>38.3</td>\n",
       "      <td>73.5</td>\n",
       "      <td>2791.0</td>\n",
       "      <td>22.0</td>\n",
       "      <td>2.5</td>\n",
       "      <td>81.8</td>\n",
       "      <td>1683.0</td>\n",
       "      <td>15.3</td>\n",
       "    </tr>\n",
       "    <tr>\n",
       "      <th>1237</th>\n",
       "      <td>Greinke</td>\n",
       "      <td>Zack</td>\n",
       "      <td>425844</td>\n",
       "      <td>2020</td>\n",
       "      <td>36</td>\n",
       "      <td>32</td>\n",
       "      <td>180.0</td>\n",
       "      <td>180</td>\n",
       "      <td>180</td>\n",
       "      <td>24</td>\n",
       "      <td>...</td>\n",
       "      <td>2327.0</td>\n",
       "      <td>17.6</td>\n",
       "      <td>33.2</td>\n",
       "      <td>77.7</td>\n",
       "      <td>2425.0</td>\n",
       "      <td>12.2</td>\n",
       "      <td>23.3</td>\n",
       "      <td>86.2</td>\n",
       "      <td>1668.0</td>\n",
       "      <td>14.0</td>\n",
       "    </tr>\n",
       "    <tr>\n",
       "      <th>1238</th>\n",
       "      <td>Hamels</td>\n",
       "      <td>Cole</td>\n",
       "      <td>430935</td>\n",
       "      <td>2020</td>\n",
       "      <td>36</td>\n",
       "      <td>2</td>\n",
       "      <td>8.0</td>\n",
       "      <td>8</td>\n",
       "      <td>5</td>\n",
       "      <td>2</td>\n",
       "      <td>...</td>\n",
       "      <td>NaN</td>\n",
       "      <td>NaN</td>\n",
       "      <td>NaN</td>\n",
       "      <td>NaN</td>\n",
       "      <td>NaN</td>\n",
       "      <td>NaN</td>\n",
       "      <td>NaN</td>\n",
       "      <td>NaN</td>\n",
       "      <td>NaN</td>\n",
       "      <td>NaN</td>\n",
       "    </tr>\n",
       "    <tr>\n",
       "      <th>1239</th>\n",
       "      <td>Petit</td>\n",
       "      <td>Yusmeiro</td>\n",
       "      <td>433589</td>\n",
       "      <td>2020</td>\n",
       "      <td>35</td>\n",
       "      <td>70</td>\n",
       "      <td>57.0</td>\n",
       "      <td>51</td>\n",
       "      <td>45</td>\n",
       "      <td>13</td>\n",
       "      <td>...</td>\n",
       "      <td>2134.0</td>\n",
       "      <td>17.4</td>\n",
       "      <td>10.8</td>\n",
       "      <td>74.3</td>\n",
       "      <td>2000.0</td>\n",
       "      <td>13.3</td>\n",
       "      <td>18.1</td>\n",
       "      <td>81.3</td>\n",
       "      <td>1753.0</td>\n",
       "      <td>18.3</td>\n",
       "    </tr>\n",
       "  </tbody>\n",
       "</table>\n",
       "<p>5 rows × 31 columns</p>\n",
       "</div>"
      ],
      "text/plain": [
       "       last_name  first_name  player_id  year  player_age  p_game  \\\n",
       "1235       Perez      Oliver     424144  2020          38      56   \n",
       "1236  Wainwright        Adam     425794  2020          38      27   \n",
       "1237     Greinke        Zack     425844  2020          36      32   \n",
       "1238      Hamels        Cole     430935  2020          36       2   \n",
       "1239       Petit    Yusmeiro     433589  2020          35      70   \n",
       "\n",
       "      p_formatted_ip  p_total_hits  p_strikeout  p_walk  ...  \\\n",
       "1235            48.0            35           37      16  ...   \n",
       "1236           176.0           145          145      40  ...   \n",
       "1237           180.0           180          180      24  ...   \n",
       "1238             8.0             8            5       2  ...   \n",
       "1239            57.0            51           45      13  ...   \n",
       "\n",
       "      fastball_avg_spin  fastball_avg_break  n_breaking_formatted  \\\n",
       "1235             2114.0                19.4                  43.1   \n",
       "1236             2253.0                13.5                  38.3   \n",
       "1237             2327.0                17.6                  33.2   \n",
       "1238                NaN                 NaN                   NaN   \n",
       "1239             2134.0                17.4                  10.8   \n",
       "\n",
       "      breaking_avg_speed  breaking_avg_spin  breaking_avg_break  \\\n",
       "1235                76.1             2195.0                10.3   \n",
       "1236                73.5             2791.0                22.0   \n",
       "1237                77.7             2425.0                12.2   \n",
       "1238                 NaN                NaN                 NaN   \n",
       "1239                74.3             2000.0                13.3   \n",
       "\n",
       "      n_offspeed_formatted  offspeed_avg_speed  offspeed_avg_spin  \\\n",
       "1235                   NaN                 NaN                NaN   \n",
       "1236                   2.5                81.8             1683.0   \n",
       "1237                  23.3                86.2             1668.0   \n",
       "1238                   NaN                 NaN                NaN   \n",
       "1239                  18.1                81.3             1753.0   \n",
       "\n",
       "      offspeed_avg_break  \n",
       "1235                 NaN  \n",
       "1236                15.3  \n",
       "1237                14.0  \n",
       "1238                 NaN  \n",
       "1239                18.3  \n",
       "\n",
       "[5 rows x 31 columns]"
      ]
     },
     "execution_count": 9,
     "metadata": {},
     "output_type": "execute_result"
    }
   ],
   "source": [
    "adjusted_pitch_data[adjusted_pitch_data['year'] == 2020].head()"
   ]
  },
  {
   "cell_type": "markdown",
   "id": "6633989d-5d61-4488-8f98-0ca8663b53e2",
   "metadata": {},
   "source": [
    "Furthermore, there are two classes of pitchers. One type of pitcher is called a starter. When beginning the game, the starter will be the first one to pitch. The team expects them to go for as many innings as possible, often going 5-7 innings, or even longer. Starters will also pitch every 5 or so days, resulting in them pitching around 30 games a year if they can stay healthy. \n",
    "\n",
    "Relievers come in after the starter. Most relievers will only pitch for one-3 innings at a time, and may pitch multiple times in the same week. As such, starters and relievers have different approaches. Starters want to burn as many innings as possible and conserve energy, while relievers look to throw at max effort and be difficult to hit against. As such, these two types of pitchers should be split when looking at key metrics. \n",
    "\n",
    "According to the internet, relievers throw around ~70 innings per year. However, to account for some anomalies, we will up this number to 90 to prevent some particularly efficient relievers from becoming mixed in with our starters"
   ]
  },
  {
   "cell_type": "code",
   "execution_count": 10,
   "id": "0458560f-3b38-49da-b573-41212d5fe1aa",
   "metadata": {},
   "outputs": [],
   "source": [
    "starters = adjusted_pitch_data[adjusted_pitch_data['p_formatted_ip'] > 90]\n",
    "relievers = adjusted_pitch_data[adjusted_pitch_data['p_formatted_ip'] <= 90]"
   ]
  },
  {
   "cell_type": "markdown",
   "id": "5d7f42a4-bd61-4288-8743-f364e634660e",
   "metadata": {},
   "source": [
    "**Exploratory Data Anaylsis**"
   ]
  },
  {
   "cell_type": "markdown",
   "id": "94dba76e-c68b-4b65-889c-518bff3df63f",
   "metadata": {},
   "source": [
    "Lets Begin with the analysis! As the league has become more analytical, certain quaities in pitchers have become more desirable. We can exhibit trends throughout our dataset through the use of libraries such as Matplotlib. Matplotlib is just one of many different data visualization libraries available, with some others being seaborn, plotly, ggplot, and many more. "
   ]
  },
  {
   "cell_type": "markdown",
   "id": "29226e2d-14a1-4c6d-9101-aeb4f009bcd8",
   "metadata": {},
   "source": [
    "To start, let's look at the league's distribution of pitches and see if we can notice any change. To do this, let's check out our entire league average, our average among starting pitchers, and our average among relievers to see if we can spot any trends."
   ]
  },
  {
   "cell_type": "code",
   "execution_count": 11,
   "id": "3ceb8921-7a93-4304-8c34-9ccfcbe0214a",
   "metadata": {},
   "outputs": [
    {
     "data": {
      "image/png": "[encoded data removed]",
      "text/plain": [
       "<Figure size 432x288 with 1 Axes>"
      ]
     },
     "metadata": {
      "needs_background": "light"
     },
     "output_type": "display_data"
    }
   ],
   "source": [
    "# Firstly, what we'll do is group our starters, relievers, and entire league data by year, and take average of number of each pitch thrown\n",
    "grouped_starters = starters.groupby(by=['year'])[['n_fastball_formatted', 'n_breaking_formatted', 'n_offspeed_formatted']].mean().reset_index()\n",
    "grouped_relievers = relievers.groupby(by=['year'])[['n_fastball_formatted', 'n_breaking_formatted', 'n_offspeed_formatted']].mean().reset_index()\n",
    "grouped_league = adjusted_pitch_data.groupby(by=['year'])[['n_fastball_formatted', 'n_breaking_formatted', 'n_offspeed_formatted']].mean().reset_index()\n",
    "\n",
    "# We'll create a function to prevent code reuse. We will call on this to make our linegraphs for the upcoming analysis\n",
    "def line_graph_maker(column, title):\n",
    "    \n",
    "    # To start, we'll utilize Seaborn's lineplot feature to give us a look at our data\n",
    "    sns.lineplot(x='year', y=column, data=grouped_starters)\n",
    "    sns.lineplot(x='year', y=column, data=grouped_relievers)\n",
    "    sns.lineplot(x='year', y=column, data=grouped_league)\n",
    "\n",
    "    # Finally, we will use Matplotlib to add a legend to our graph\n",
    "    plt.ylabel(\"Percentage thrown\")\n",
    "    plt.title(\"Percentage of \" + title + \" thrown among starters, relievers, and the entire league\")\n",
    "    plt.legend(labels=['starters', 'relievers', 'league'])\n",
    "\n",
    "line_graph_maker('n_fastball_formatted', \"Fastballs\")\n"
   ]
  },
  {
   "cell_type": "markdown",
   "id": "b3d3db01-adef-4b81-8f87-828d125c4330",
   "metadata": {},
   "source": [
    "Very interesting! Since the introduction of the statcast era, pitchers have been deciding to lay off throwing their fastballs. Starters have seen the most drastic change in this regard, throwing their fastballs >63% of the time in 2015 to around 57% in 2021. \n",
    "\n",
    "One thing worth mentioning is the 2020 season. The 2020 season will be a very interesting one in our analysis and one we will continue to mention moving forward. 2020 was our \"Covid Year\" and as a result many players would often miss games to do covid restrictions, or would outright not play at all. This could mean those that remained favored a certain style of pitch, and impacted these results.  \n",
    "\n",
    "But returning to our original point, if the league is throwing fewer fastballs in the statcast era, what else are they throwing? Let's check our other pitches (breaking and offspeed) and see what they can show us."
   ]
  },
  {
   "cell_type": "code",
   "execution_count": 12,
   "id": "85b7ada2-ccd2-420e-b7f0-81e9e65a39e0",
   "metadata": {},
   "outputs": [
    {
     "data": {
      "image/png": "[encoded data removed]",
      "text/plain": [
       "<Figure size 432x288 with 1 Axes>"
      ]
     },
     "metadata": {
      "needs_background": "light"
     },
     "output_type": "display_data"
    }
   ],
   "source": [
    "line_graph_maker('n_breaking_formatted', \"Breaking\")"
   ]
  },
  {
   "cell_type": "code",
   "execution_count": 13,
   "id": "a0c7c32c-1415-4f06-90bf-1b925db84561",
   "metadata": {},
   "outputs": [
    {
     "data": {
      "image/png": "[encoded data removed]",
      "text/plain": [
       "<Figure size 432x288 with 1 Axes>"
      ]
     },
     "metadata": {
      "needs_background": "light"
     },
     "output_type": "display_data"
    }
   ],
   "source": [
    "line_graph_maker('n_offspeed_formatted', \"Offspeed\")"
   ]
  },
  {
   "cell_type": "markdown",
   "id": "e7c9d2c3-4814-443c-9521-d78380782751",
   "metadata": {},
   "source": [
    "Very Cool! We notice that curveballs have had a incredible surge in usage in the last 7 years, rising nearly 4% leaguewide while offspeed pitches have seen an increase but not much, rising only ~1% in the last 7 years. \n",
    "\n",
    "We can also see a big shift in favorites regarding relievers and starters here. Starters and relievers both moved away from their fastballs, but Starters looked to favor breaking balls and offspeed more than relievers, gaining ~3% in total breaking ball use and ~1.5% increase in offspeed use. Relievers opted to focus most of their repetiore toward their breaking ball, throwing that pitch 4% more than they did 7 years ago, and their offspeed ~2% more than 7 years prior. \n",
    "\n",
    "Finally, the most interesting thing of note is the divergence on the breaking ball preference. After the 2020 season, Relievers opted to throw less offspeed and fastballs in favor of breaking balls. While Starters opted to revoke both breaking and offspeed pitches in favor of the fastball, breaking a nearly 6 year trend in decline. "
   ]
  },
  {
   "cell_type": "markdown",
   "id": "cbca6830-8313-42d7-b789-62bed27f429c",
   "metadata": {},
   "source": [
    "### Now towards hitting!\n",
    "\n",
    "We now visualize and see the changes over time in what Pitchers decide to throw. However, is this making a difference? Are pitchers pitching better and getting less hits or have batters adapted quickly to these changes? Baseball is an ever changing sport, and we are now interested in seeing if the changes the pitchers have made have yielded any results.\n",
    "\n",
    "We can do this by first measuring broadly. Our dataset has some very specific data values but also extremely general ones such as the most fundamental metric out there for a pitcher: Strike Out Percentage. Every person playing baseball, new, novice, pro, all know what a strike out is. It is the goal of the pitcher and now let's see if the overall change in pitching over time has resulted in any changes to their strike out percentages."
   ]
  },
  {
   "cell_type": "code",
   "execution_count": 46,
   "id": "e63066ef-28a4-482f-8cbf-593165d6e848",
   "metadata": {},
   "outputs": [
    {
     "data": {
      "text/plain": [
       "Text(0.5, 0, 'Time (Years)')"
      ]
     },
     "execution_count": 48,
     "metadata": {},
     "output_type": "execute_result"
    },
    {
     "data": {
      "image/png": "[encoded data removed]",
      "text/plain": [
       "<Figure size 432x288 with 1 Axes>"
      ]
     },
     "metadata": {
      "needs_background": "light"
     },
     "output_type": "display_data"
    }
   ],
   "source": [
    "hitData = adjusted_pitch_data.groupby(by=['year'])[['p_k_percent', 'p_era', 'exit_velocity_avg']].mean().reset_index()\n",
    "\n",
    "plt.plot(hitData['year'], hitData['p_k_percent'], color = 'green')\n",
    "plt.title(\"Change in Strike Out Percentage Over Time\")\n",
    "plt.ylabel(\"Strike Out Percentage\")\n",
    "plt.xlabel(\"Time (Years)\")"
   ]
  },
  {
   "cell_type": "markdown",
   "id": "8c618474-b158-4e64-9f47-23cb9b8abc45",
   "metadata": {},
   "source": [
    "From this initial investigation, we can see that strike out rates are on the rise, coinciding with the pitcher's changes. In fact, this change is actually pretty significant at almost 3%! This gives us cause to investigate further. However, before we investigate further, I want to double check on a counter point. Many sports recently have changed to a more \"splashy\" playstyle. NBA fans and old timers never have seen as many 3 point shots being attempted before, and now the NBA is dominated by splashy 3 point plays versus the traditional jump shots and fundamental layups. Additionally, the NFL, a league for American Football, has recently laxed its rules, allowing offenses to get away with more push offs and other subtle actions that allow offenses to flourish. The NFL has now recently seen its highest rates of passing in games, and as a result, some of the highest average scores seen. These two follow a trend of different sports leagues beginning to encourage high scoring high action gameplay to draw in more viewers attention. While fans who enjoy the fundamentals of the game may appreciate high levels of defense and low scoring games, newer fans and outsiders want to see cool and big things happen.\n",
    "\n",
    "Is baseball any different? One style of a hitter in Baseball are the Power Hitters. These are the people that hit the highlight home runs, making the fans and commentators scream at how far the batter just hit the ball. These Power Hitters hit frequently, and swing hard. As a result, they hit more home runs, but as a consequence, also strike out at a much higher rate. These hitters are an all or nothing type of player. Could the higher rates of strike outs simply not be from the actions of the pitchers, but rather the trends of hitters? Is the MLB also transitioning to an all or nothing, big highlight or nothing, league like the NBA and NFL? Let's investigate.\n",
    "\n",
    "We can do this with a quick check. A part of this data set is the average exit velocity of a hit ball and the average Earned Run (Estimated runs given up every 9 innings pitched). If this counter argument is to hold any weight, then at its core, both these metrics would ALSO have to be significantly increasing with time. This is because if there are more Power Hitters, then the average exit velocity would be increasing, resulting in more home runs, and therefore higher scores. Let's see!"
   ]
  },
  {
   "cell_type": "code",
   "execution_count": 61,
   "id": "6602fe49-742b-4f29-bd44-bba22bf8a8bf",
   "metadata": {},
   "outputs": [
    {
     "data": {
      "text/plain": [
       "<matplotlib.legend.Legend at 0x7f75de189490>"
      ]
     },
     "execution_count": 61,
     "metadata": {},
     "output_type": "execute_result"
    },
    {
     "data": {
      "image/png": "[encoded data removed]",
      "text/plain": [
       "<Figure size 432x288 with 2 Axes>"
      ]
     },
     "metadata": {
      "needs_background": "light"
     },
     "output_type": "display_data"
    }
   ],
   "source": [
    "fig, ax1 = plt.subplots()\n",
    "ax2 = ax1.twinx()\n",
    "\n",
    "ax1.plot(hitData['year'], hitData['exit_velocity_avg'], '-o', color = 'blue')\n",
    "ax2.plot(hitData['year'], hitData['p_era'], '-o', color = 'red')\n",
    "\n",
    "plt.title(\"Comparison of Average Exit Velocity and Earned Run over Time\")\n",
    "ax2.set_ylabel(\"Average Earned Run\")\n",
    "ax2.xaxis.label.set_color('red')\n",
    "ax1.set_ylabel(\"Average Exit Velocity (MPH)\")\n",
    "plt.gca().spines['right'].set_color('red')        # setting up Y-axis tick color to red\n",
    "plt.gca().spines['left'].set_color('blue')        # setting up Y-axis tick color to red\n",
    "ax1.set_xlabel(\"Time (Year)\")\n",
    "red_patch = mpatches.Patch(color='red', label='Average Earned Run')\n",
    "blue_patch = mpatches.Patch(color='blue', label='Average Exit Velocity')\n",
    "\n",
    "plt.legend(handles=[red_patch, blue_patch])#sizing"
   ]
  },
  {
   "cell_type": "markdown",
   "id": "bf0f1cf4-8562-4a62-9ffa-4404efb27537",
   "metadata": {},
   "source": [
    "Interesting. It seems that both exit velocity and earned run over time are slightly increasing, but looking at the scale, it has only changed approximately .5 MPH from 2015 and .6 Earned Run from 2015, which is pretty insignificant. Let's compare the difference in percent change from 2015 to 2021 with the actual strike out percentage to visualize which has been more significant."
   ]
  },
  {
   "cell_type": "markdown",
   "id": "439ad3cf-a6c3-4ea9-afd1-7d7fe31b8462",
   "metadata": {},
   "source": [
    "Poss visual changes to run through w logan\n",
    "Do you want me to make the graphs larger?\n",
    "Doo you want me to sformat it like ggplot to make it look better?"
   ]
  },
  {
   "cell_type": "code",
   "execution_count": 65,
   "id": "5eaf03ad-c98a-4b46-a68f-1c6f8a4374e9",
   "metadata": {},
   "outputs": [
    {
     "data": {
      "text/plain": [
       "Text(0, 0.5, 'Percent Change (%)')"
      ]
     },
     "execution_count": 65,
     "metadata": {},
     "output_type": "execute_result"
    },
    {
     "data": {
      "image/png": "[encoded data removed]",
      "text/plain": [
       "<Figure size 432x288 with 1 Axes>"
      ]
     },
     "metadata": {
      "needs_background": "light"
     },
     "output_type": "display_data"
    }
   ],
   "source": [
    "exitVelChange = 100 * ((hitData['exit_velocity_avg'][6] - hitData['exit_velocity_avg'][0])/hitData['exit_velocity_avg'][0])\n",
    "eraChange = 100 * ((hitData['p_era'][6] - hitData['p_era'][0])/hitData['p_era'][0])\n",
    "strikeOutChange = 100 * ((hitData['p_k_percent'][6] - hitData['p_k_percent'][0])/hitData['p_k_percent'][0])\n",
    "\n",
    "plt.bar([\"Velocity\", \"Earned Run Average\", \"Strike Out\"], [exitVelChange, eraChange, strikeOutChange])\n",
    "plt.title(\"Percent Change of Velocity, Earned Run Average, and Strike Out rates from 2017-2021\")\n",
    "plt.text(0, exitVelChange, round(exitVelChange,3), ha = 'center')\n",
    "plt.text(1, eraChange, round(eraChange,3), ha = 'center')\n",
    "plt.text(2, strikeOutChange, round(strikeOutChange,3), ha = 'center')\n",
    "plt.ylabel(\"Percent Change (%)\")"
   ]
  },
  {
   "cell_type": "markdown",
   "id": "8ec705f2-b9e9-4758-a0fa-734195db2a30",
   "metadata": {},
   "source": [
    "As we can see, while average velocity on hit has increased slightly, its percent change is approximately 0.603 percent,while the Strike Out percent change percentage has changed about 9.712%, much more significant. However, the Earned Run Average has also increased a significant amount to 13.94, which demonstrates that even though strike outs have increased, there are still more scores."
   ]
  },
  {
   "cell_type": "code",
   "execution_count": null,
   "id": "72c805ab-53e1-4365-892e-14f2028e6c21",
   "metadata": {},
   "outputs": [],
   "source": []
  }
 ],
 "metadata": {
  "kernelspec": {
   "display_name": "Python 3 (ipykernel)",
   "language": "python",
   "name": "python3"
  },
  "language_info": {
   "codemirror_mode": {
    "name": "ipython",
    "version": 3
   },
   "file_extension": ".py",
   "mimetype": "text/x-python",
   "name": "python",
   "nbconvert_exporter": "python",
   "pygments_lexer": "ipython3",
   "version": "3.9.7"
  }
 },
 "nbformat": 4,
 "nbformat_minor": 5
}
